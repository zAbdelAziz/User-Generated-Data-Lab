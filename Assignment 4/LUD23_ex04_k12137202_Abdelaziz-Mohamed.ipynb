{
 "cells": [
  {
   "cell_type": "markdown",
   "id": "3ef6227e",
   "metadata": {},
   "source": [
    "*UE Learning from User-generated Data, CP MMS, JKU Linz 2023*\n",
    "# Exercise 4: Evaluation\n",
    "\n",
    "In this exercise we evaluate accuracy of three different RecSys we already implemented. First we implement DCG and nDCG metrics, then we create a simple evaluation framework to compare the three recommenders in terms of nDCG. The implementations for the three recommender systems are provided in a file rec.py and are imported later in the notebook.\n",
    "Please consult the lecture slides and the presentation from UE Session 4 for a recap.\n",
    "\n",
    "Make sure to rename the notebook according to the convention:\n",
    "\n",
    "LUD23_ex03_k<font color='red'><Matr. Number\\></font>_<font color='red'><Surname-Name\\></font>.ipynb\n",
    "\n",
    "for example:\n",
    "\n",
    "LUD23_ex03_k000007_Bond_James.ipynb\n",
    "\n",
    "## Implementation\n",
    "In this exercise, as before, you are reqired to write a number of functions. Only implemented functions are graded. Insert your implementations into the templates provided. Please don't change the templates even if they are not pretty. Don't forget to test your implementation for correctness and efficiency. **Make sure to try your implementations on toy examples and sanity checks.**\n",
    "\n",
    "Please **only use libraries already imported in the notebook**."
   ]
  },
  {
   "cell_type": "code",
   "execution_count": 1,
   "id": "8fe8120b",
   "metadata": {},
   "outputs": [],
   "source": [
    "import pandas as pd\n",
    "import numpy as np"
   ]
  },
  {
   "cell_type": "markdown",
   "id": "da35c1c9",
   "metadata": {},
   "source": [
    "## <font color='red'>TASK 1/2</font>: Evaluation Metrics"
   ]
  },
  {
   "cell_type": "markdown",
   "id": "ba9af194",
   "metadata": {},
   "source": [
    "Implement DCG and nDCG in the corresponding templates."
   ]
  },
  {
   "cell_type": "markdown",
   "id": "bc6360ca",
   "metadata": {},
   "source": [
    "### DCG Score\n",
    "Implement DCG following the input/output convention:\n",
    "#### Input:\n",
    "* predictions - (not an interaction matrix!) numpy array with recommendations. Row index corresponds to User_id, column index corresponds to the rank of the item mentioned in the sell. Every cell (i,j) contains **item id** recommended to the user (i) on the position (j) in the list. For example:\n",
    "\n",
    "The following predictions structure [[12, 7, 99], [0, 97, 6]] means that the user with id==1 (second row) got recommended item **0** on the top of the list, item **97** on the second place and item **6** on the third place.\n",
    "\n",
    "* test_interaction_matrix - (plain interaction matrix format as before!) interaction matrix constructed from interactions held out as a test set, rows - users, columns - items, cells - 0 or 1\n",
    "\n",
    "* topK - integer - top \"how many\" to consider for the evaluation. By default top 10 items are to be considered\n",
    "\n",
    "#### Output:\n",
    "* DCG score\n",
    "\n",
    "Don't forget, DCG is calculated for every user separately and then the average is returned.\n",
    "\n",
    "\n",
    "<font color='red'>**Attention!**</font> Use logarithm with base 2 for discounts! Remember that the top1 recommendation shouldn't get discounted!"
   ]
  },
  {
   "cell_type": "code",
   "execution_count": 2,
   "id": "d607a126",
   "metadata": {},
   "outputs": [],
   "source": [
    "def get_dcg_score(predictions: np.ndarray, test_interaction_matrix: np.ndarray, topK=10) -> float:\n",
    "    \"\"\"\n",
    "    predictions - np.ndarray - predictions of the recommendation algorithm for each user.\n",
    "    test_interaction_matrix - np.ndarray - test interaction matrix for each user.\n",
    "    \n",
    "    returns - float - mean dcg score over all user.\n",
    "    \"\"\"\n",
    "    score = 0\n",
    "\n",
    "    # TODO: YOUR IMPLEMENTATION.\n",
    "    def get_no_interactions(test_interaction_matrix):\n",
    "        to_del = []\n",
    "        for i, row in enumerate(test_interaction_matrix):\n",
    "            if np.all((row == 0)):\n",
    "                to_del.append(i)\n",
    "        return to_del\n",
    "    \n",
    "    to_delete = get_no_interactions(test_interaction_matrix)\n",
    "    test_interaction_matrix = np.delete(test_interaction_matrix, to_delete, 0)\n",
    "    predictions = np.delete(predictions, to_delete, 0)\n",
    "\n",
    "    for user in range(predictions.shape[0]):\n",
    "        for sample in range(min(topK, predictions.shape[1])):\n",
    "            if test_interaction_matrix[user][sample]:\n",
    "                score += 1 / np.log2(2 + predictions[user][sample])\n",
    "                \n",
    "    score /= predictions.shape[0]\n",
    "    return score"
   ]
  },
  {
   "cell_type": "code",
   "execution_count": 3,
   "id": "376794a0",
   "metadata": {},
   "outputs": [],
   "source": [
    "predictions = np.array([[0, 1, 2, 3], [3, 2, 1, 0]])\n",
    "test_interaction_matrix = np.array([[1, 0, 0, 0], [0, 0, 0, 1]])\n",
    "\n",
    "dcg_score = get_dcg_score(predictions, test_interaction_matrix, topK=4)\n",
    "\n",
    "assert np.isclose(dcg_score, 1), \"1 expected\""
   ]
  },
  {
   "cell_type": "markdown",
   "id": "86afdf65",
   "metadata": {},
   "source": [
    "* Can DCG score be higher than 1?<br>\n",
    "$\\quad$Yes When the commulative gain is higher than 1, especially in the first items, this can result in a dcg score higher than 1\n",
    "* Can the average DCG score be higher than 1?<br>\n",
    "$\\quad$If we are averaging the dcg scores over the number of users without normalization, then Yes it can get higher.<br>\n",
    "$\\quad$But if we are considering the normalized version then No it cannot get higher.\n",
    "* Why?<br>\n",
    "$\\quad$For the Average DCG over the number of users, Yes the value can get higher, because each dcg is calculated for each user separately, and if all of them are higher than 1 then in that case the average dcg can get higher than 1<br>\n",
    "$\\quad$For the Normalized DCG \"nDCG\" we know that nDCG = DCG / ideal DCG and since the nDCG is always lower than the ideal DCG, this should result in a maximum value of 1.<br>"
   ]
  },
  {
   "cell_type": "markdown",
   "id": "ef924fee",
   "metadata": {},
   "source": [
    "### nDCG Score\n",
    "\n",
    "Following the same parameter convention as for DCG implement nDCG metric.\n",
    "\n",
    "<font color='red'>**Attention!**</font> Remember that ideal DCG is calculated separetely for each user and depends on the number of tracks held out for them as a Test set! Use logarithm with base 2 for discounts! Remember that the top1 recommendation shouldn't get discounted!\n",
    "\n",
    "<font color='red'>**Note:**</font> nDCG is calculated for **every user separately** and then the average is returned. You do not necessarily need to use the function you implemented above. Writing nDCG from scatch might be a good idea as well."
   ]
  },
  {
   "cell_type": "code",
   "execution_count": 4,
   "id": "4f2ec6a5",
   "metadata": {},
   "outputs": [],
   "source": [
    "def get_ndcg_score(predictions: np.ndarray, test_interaction_matrix: np.ndarray, topK=10) -> float:\n",
    "    \"\"\"\n",
    "    predictions - np.ndarray - predictions of the recommendation algorithm for each user.\n",
    "    test_interaction_matrix - np.ndarray - test interaction matrix for each user.\n",
    "    topK - int - topK recommendations should be evaluated.\n",
    "    \n",
    "    returns - average ndcg score over all users.\n",
    "    \"\"\"\n",
    "    score = None\n",
    "    \n",
    "    # TODO: YOUR IMPLEMENTATION.\n",
    "    score = 0\n",
    "    def get_no_interactions(test_interaction_matrix):\n",
    "        to_del = []\n",
    "        for i, row in enumerate(test_interaction_matrix):\n",
    "            if np.all((row == 0)):\n",
    "                to_del.append(i)\n",
    "        return to_del\n",
    "    \n",
    "    to_delete = get_no_interactions(test_interaction_matrix)\n",
    "    test_interaction_matrix = np.delete(test_interaction_matrix, to_delete, 0)\n",
    "    predictions = np.delete(predictions, to_delete, 0)\n",
    "    \n",
    "    \n",
    "    def get_local_score(predictions, test_interaction_matrix, topK):\n",
    "        perfect_score = 0\n",
    "        local_score = 0\n",
    "        c = 0\n",
    "        for sample in range(min(topK, predictions.shape[1])):\n",
    "            if test_interaction_matrix[user, predictions[user, sample]]:\n",
    "                local_score += 1 / np.log2(2 + c)\n",
    "            if sample < maximum:\n",
    "                perfect_score += 1 / np.log2(2 + c)\n",
    "            c += 1\n",
    "        return local_score, perfect_score\n",
    "            \n",
    "    for user in range(predictions.shape[0]):\n",
    "        maximum = np.sum(test_interaction_matrix[user])\n",
    "        local_score, perfect_score = get_local_score(predictions, test_interaction_matrix, topK)\n",
    "        score += local_score / perfect_score\n",
    "        \n",
    "    score /= predictions.shape[0]\n",
    "    return score"
   ]
  },
  {
   "cell_type": "code",
   "execution_count": 5,
   "id": "4db41b05",
   "metadata": {},
   "outputs": [],
   "source": [
    "predictions = np.array([[0, 1, 2, 3], [3, 2, 1, 0]])\n",
    "test_interaction_matrix = np.array([[1, 0, 0, 0], [0, 0, 0, 1]])\n",
    "\n",
    "ndcg_score = get_ndcg_score(predictions, test_interaction_matrix, topK=4)\n",
    "\n",
    "assert np.isclose(ndcg_score, 1), \"ndcg score is not correct.\""
   ]
  },
  {
   "cell_type": "markdown",
   "id": "34472609",
   "metadata": {},
   "source": [
    "* Can nDCG score be higher than 1?<br>\n",
    "No, since nDCG = DCG / ideal_DCG and since the nDCG is always lower than the ideal_DCG, this should result in a maximum value of 1."
   ]
  },
  {
   "cell_type": "markdown",
   "id": "22655bbf",
   "metadata": {},
   "source": [
    "## <font color='red'>TASK 2/2</font>: Evaluation\n",
    "Use provided rec.py (see imports below) to build a simple evaluation framework. It should be able to evaluate POP, ItemKNN and SVD.\n",
    "\n",
    "*Make sure to place provided rec.py next to your notebook for the imports to work.*\n"
   ]
  },
  {
   "cell_type": "code",
   "execution_count": 6,
   "id": "222a425e",
   "metadata": {},
   "outputs": [],
   "source": [
    "from rec import svd_decompose, svd_recommend_to_list  #SVD\n",
    "from rec import inter_matr_implicit\n",
    "from rec import recTopK  #ItemKNN\n",
    "from rec import recTopKPop  #TopPop"
   ]
  },
  {
   "cell_type": "markdown",
   "id": "32d6a9b7",
   "metadata": {},
   "source": [
    "Load the users, items and both the train interactions and test interactions\n",
    "from the **new version of the lfm-tiny dataset** provided with the assignment"
   ]
  },
  {
   "cell_type": "code",
   "execution_count": 7,
   "id": "276fea39",
   "metadata": {},
   "outputs": [],
   "source": [
    "def read(dataset, file):\n",
    "    return pd.read_csv(dataset + '/' + dataset + '.' + file, sep='\\t')\n",
    "\n",
    "# TODO: YOUR IMPLEMENTATION\n",
    "\n",
    "users = read('lfm-tiny', 'user')\n",
    "items = read('lfm-tiny', 'item')\n",
    "train_inters = read('lfm-tiny', 'inter_train')\n",
    "test_inters = read('lfm-tiny', 'inter_test')\n",
    "\n",
    "train_interaction_matrix = inter_matr_implicit(users=users, items=items, interactions=train_inters,\n",
    "                                               dataset_name=\"lfm-tiny\")\n",
    "test_interaction_matrix = inter_matr_implicit(users=users, items=items, interactions=test_inters,\n",
    "                                              dataset_name=\"lfm-tiny\")"
   ]
  },
  {
   "cell_type": "markdown",
   "id": "d6e414bd",
   "metadata": {
    "pycharm": {
     "name": "#%% md\n"
    }
   },
   "source": [
    "### Get Recommendations\n",
    "\n",
    "Implement the function below to get recommendations from all 3 recommender algorithms. Make sure you use the provided config dictionary and pay attention to the structure for the output dictionary - we will use it later."
   ]
  },
  {
   "cell_type": "code",
   "execution_count": 8,
   "id": "47964245",
   "metadata": {},
   "outputs": [],
   "source": [
    "config_predict = {\n",
    "    #interaction matrix\n",
    "    \"train_inter\": train_interaction_matrix,\n",
    "    #topK parameter used for all algorithms\n",
    "    \"top_k\": 10,\n",
    "    #specific parameters for all algorithms\n",
    "    \"recommenders\": {\n",
    "        \"SVD\": {\n",
    "            \"n_factors\": 50\n",
    "        },\n",
    "        \"ItemKNN\": {\n",
    "            \"n_neighbours\": 5\n",
    "        },\n",
    "        \"TopPop\": {\n",
    "        }\n",
    "    }\n",
    "}"
   ]
  },
  {
   "cell_type": "code",
   "execution_count": 9,
   "id": "52b7a07a",
   "metadata": {
    "pycharm": {
     "name": "#%%\n"
    }
   },
   "outputs": [],
   "source": [
    "def get_recommendations_for_algorithms(config: dict) -> dict:\n",
    "    \"\"\"\n",
    "    config - dict - configuration as defined above\n",
    "\n",
    "    returns - dict - already predefined below with name \"rec_dict\"\n",
    "    \"\"\"\n",
    "\n",
    "    #use this structure to return results\n",
    "    rec_dict = {\"recommenders\": {\n",
    "        \"SVD\": {\n",
    "            #Add your predictions here\n",
    "            \"recommendations\": np.array([])\n",
    "        },\n",
    "        \"ItemKNN\": {\n",
    "            \"recommendations\": np.array([])\n",
    "        },\n",
    "        \"TopPop\": {\n",
    "            \"recommendations\": np.array([])\n",
    "        },\n",
    "    }}\n",
    "    \n",
    "    # TODO: YOUR IMPLEMENTATION.\n",
    "    train_inter_mat = config[\"train_inter\"]\n",
    "    users = list(range(train_inter_mat.shape[0]))\n",
    "    \n",
    "    svd_recs = np.full((train_inter_mat.shape[0], config['top_k']), -1)\n",
    "    knn_recs = np.full((train_inter_mat.shape[0], config['top_k']), -1)\n",
    "    top_pop_recs = np.full((train_inter_mat.shape[0], config['top_k']), -1)\n",
    "\n",
    "    # SVD\n",
    "\n",
    "    U, V = svd_decompose(train_inter_mat)\n",
    "    def get_seen_items(inter_matrix_train):\n",
    "        seen = [[] for i in range(train_inter_mat.shape[0])]\n",
    "        for i, inter_row in enumerate(train_inter_mat):\n",
    "            for j, item in enumerate(inter_row):\n",
    "                if item == 1:\n",
    "                    seen[i].append(j)\n",
    "        return seen\n",
    "    seen = get_seen_items(train_inter_mat)\n",
    "    \n",
    "    for user_id in users:\n",
    "        svd_recs[user_id] = svd_recommend_to_list(user_id, seen[user_id], U, V, config[\"top_k\"])\n",
    "        knn_recs[user_id] = recTopK(train_inter_mat, user_id, config[\"top_k\"], config[\"recommenders\"][\"ItemKNN\"][\"n_neighbours\"])\n",
    "        top_pop_recs[user_id] = recTopKPop(train_inter_mat, user_id, config[\"top_k\"])\n",
    "        \n",
    "    rec_dict[\"recommenders\"][\"SVD\"][\"recommendations\"] = svd_recs\n",
    "    rec_dict[\"recommenders\"][\"ItemKNN\"][\"recommendations\"] = knn_recs\n",
    "    rec_dict[\"recommenders\"][\"TopPop\"][\"recommendations\"] = top_pop_recs\n",
    "    \n",
    "    print(rec_dict[\"recommenders\"][\"SVD\"][\"recommendations\"][0])\n",
    "    print(rec_dict[\"recommenders\"][\"ItemKNN\"][\"recommendations\"][0])\n",
    "    print(rec_dict[\"recommenders\"][\"TopPop\"][\"recommendations\"][0])\n",
    "    return rec_dict"
   ]
  },
  {
   "cell_type": "code",
   "execution_count": 10,
   "id": "0b78eab7",
   "metadata": {
    "pycharm": {
     "name": "#%%\n"
    }
   },
   "outputs": [
    {
     "name": "stdout",
     "output_type": "stream",
     "text": [
      "[227  30  45 187 124 125 197 186 129 156]\n",
      "[ 56  54  45  30  12  42  58  55  43 165]\n",
      "[ 43  42 151 105  96  68 104  51 167 150]\n"
     ]
    }
   ],
   "source": [
    "recommendations = get_recommendations_for_algorithms(config_predict)\n",
    "\n",
    "assert \"SVD\" in recommendations[\"recommenders\"] and \"recommendations\" in recommendations[\"recommenders\"][\"SVD\"]\n",
    "assert isinstance(recommendations[\"recommenders\"][\"SVD\"][\"recommendations\"], np.ndarray)\n",
    "assert \"ItemKNN\" in recommendations[\"recommenders\"] and \"recommendations\" in recommendations[\"recommenders\"][\"ItemKNN\"]\n",
    "assert isinstance(recommendations[\"recommenders\"][\"ItemKNN\"][\"recommendations\"], np.ndarray)\n",
    "assert \"TopPop\" in recommendations[\"recommenders\"] and \"recommendations\" in recommendations[\"recommenders\"][\"TopPop\"]\n",
    "assert isinstance(recommendations[\"recommenders\"][\"TopPop\"][\"recommendations\"], np.ndarray)\n"
   ]
  },
  {
   "cell_type": "markdown",
   "id": "8eaf7a88",
   "metadata": {
    "pycharm": {
     "name": "#%% md\n"
    }
   },
   "source": [
    "### Evaluate Recommendations\n",
    "\n",
    "Implement the function such that it evaluates the previously generated recommendations. Make sure you use the provided config dictionary and pay attention to the structure for the output dictionary."
   ]
  },
  {
   "cell_type": "code",
   "execution_count": 11,
   "id": "f7478da8",
   "metadata": {},
   "outputs": [],
   "source": [
    "config_test = {\n",
    "    \"top_k\": 10,\n",
    "    \"test_inter\": test_interaction_matrix,\n",
    "    \"recommenders\": {}  # here you can access the recommendations from get_recommendations_for_algorithms\n",
    "\n",
    "}\n",
    "# add dictionary with recommendations to config dictionary\n",
    "config_test.update(recommendations)"
   ]
  },
  {
   "cell_type": "code",
   "execution_count": 12,
   "id": "062c0fd0",
   "metadata": {
    "pycharm": {
     "name": "#%%\n"
    }
   },
   "outputs": [],
   "source": [
    "def evaluate_algorithms(config: dict) -> dict:\n",
    "    \"\"\"\n",
    "    config - dict - configuration as defined above\n",
    "\n",
    "    returns - dict - { Recommender Key from input dict: { \"ndcg\": float - ndcg from evaluation for this recommender} }\n",
    "    \"\"\"\n",
    "\n",
    "    metrics = {\n",
    "        \"SVD\": {\n",
    "            \"ndcg\": get_ndcg_score(config[\"recommenders\"][\"SVD\"][\"recommendations\"], config[\"test_inter\"], config[\"top_k\"])\n",
    "        },\n",
    "        \"ItemKNN\": {\n",
    "            \"ndcg\": get_ndcg_score(config[\"recommenders\"][\"ItemKNN\"][\"recommendations\"], config[\"test_inter\"], config[\"top_k\"])\n",
    "        },\n",
    "        \"TopPop\": {\n",
    "            \"ndcg\": get_ndcg_score(config[\"recommenders\"][\"TopPop\"][\"recommendations\"], config[\"test_inter\"], config[\"top_k\"])\n",
    "        },\n",
    "    }\n",
    "\n",
    "    # # TODO: YOUR IMPLEMENTATION.  \n",
    "    # for alg in metrics:\n",
    "    #     preds = config[\"recommenders\"][alg][\"recommendations\"]\n",
    "    #     metrics[alg][\"ndcg\"] = get_ndcg_score(preds, config[\"test_inter\"], config[\"top_k\"])\n",
    "\n",
    "\n",
    "    # print(config_test)\n",
    "    return metrics"
   ]
  },
  {
   "cell_type": "markdown",
   "id": "4f36d4b9",
   "metadata": {
    "pycharm": {
     "name": "#%% md\n"
    }
   },
   "source": [
    "### Evaluating Every Algorithm\n",
    "Make sure everything works.\n",
    "We expect KNN to outperform other algorithms on our small data sample."
   ]
  },
  {
   "cell_type": "code",
   "execution_count": 13,
   "id": "bc0f672c",
   "metadata": {
    "pycharm": {
     "name": "#%%\n"
    }
   },
   "outputs": [],
   "source": [
    "evaluations = evaluate_algorithms(config_test)\n",
    "\n",
    "assert \"SVD\" in evaluations and \"ndcg\" in evaluations[\"SVD\"] and isinstance(evaluations[\"SVD\"][\"ndcg\"], float)\n",
    "assert \"ItemKNN\" in evaluations and \"ndcg\" in evaluations[\"ItemKNN\"] and isinstance(evaluations[\"ItemKNN\"][\"ndcg\"], float)\n",
    "assert \"TopPop\" in evaluations and \"ndcg\" in evaluations[\"TopPop\"] and isinstance(evaluations[\"TopPop\"][\"ndcg\"], float)"
   ]
  },
  {
   "cell_type": "code",
   "execution_count": 14,
   "id": "215bfaee",
   "metadata": {
    "pycharm": {
     "name": "#%%\n"
    }
   },
   "outputs": [
    {
     "name": "stdout",
     "output_type": "stream",
     "text": [
      "SVD ndcg: 0.10828262931154427\n",
      "ItemKNN ndcg: 0.19129278246326312\n",
      "TopPop ndcg: 0.10324700052451588\n"
     ]
    }
   ],
   "source": [
    "for recommender in evaluations.keys():\n",
    "    print(f\"{recommender} ndcg: {evaluations[recommender]['ndcg']}\")"
   ]
  },
  {
   "cell_type": "markdown",
   "id": "6191839c",
   "metadata": {},
   "source": [
    "## Questions and Potential Future Work\n",
    "* How would you try improve performance of all three algorithms?<br>\n",
    "$\\quad$- KNN: We Can incorporate more information about the items/users to increase the feature space of the recommender.<br>\n",
    "$\\quad$- SVD: We can use some sort of Regularization like the L2, since its highly prone to overfitting.<br>\n",
    "$\\quad$- General: Hyperparameters Tuning.<br>\n",
    "* What other metrics would you consider to compare these recommender systems?<br>\n",
    "$\\quad$- Mean average precision<br>\n",
    "$\\quad$- F1 score<br>\n",
    "$\\quad$- Diversity:.<br>\n"
   ]
  },
  {
   "cell_type": "code",
   "execution_count": 15,
   "id": "0f4ad182",
   "metadata": {},
   "outputs": [],
   "source": [
    "# The end."
   ]
  }
 ],
 "metadata": {
  "kernelspec": {
   "display_name": "Python 3 (ipykernel)",
   "language": "python",
   "name": "python3"
  },
  "language_info": {
   "codemirror_mode": {
    "name": "ipython",
    "version": 3
   },
   "file_extension": ".py",
   "mimetype": "text/x-python",
   "name": "python",
   "nbconvert_exporter": "python",
   "pygments_lexer": "ipython3",
   "version": "3.10.9"
  }
 },
 "nbformat": 4,
 "nbformat_minor": 5
}
